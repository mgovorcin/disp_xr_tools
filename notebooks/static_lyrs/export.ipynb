{
 "cells": [
  {
   "cell_type": "code",
   "execution_count": 1,
   "metadata": {},
   "outputs": [],
   "source": [
    "%load_ext autoreload\n",
    "%autoreload 2"
   ]
  },
  {
   "cell_type": "code",
   "execution_count": 2,
   "metadata": {},
   "outputs": [],
   "source": [
    "import logging\n",
    "from pathlib import Path\n",
    "from disp_xr import product\n",
    "from disp_xr.log.logging import setup_logging\n",
    "from disp_xr.static_layers import (download_dem, \n",
    "                                   download_water_mask,\n",
    "                                   get_static_layers,\n",
    "                                   los_unit2inc_azimuth)\n",
    "from disp_xr.mintpy import write_mintpy_geometry\n",
    "\n",
    "logger = logging.getLogger('disp_xr')\n",
    "setup_logging(logger_name='disp_xr')"
   ]
  },
  {
   "cell_type": "code",
   "execution_count": 5,
   "metadata": {},
   "outputs": [],
   "source": [
    "def get_geometry(input_dir: str | Path):\n",
    "    if isinstance(input_dir, str):\n",
    "        input_dir = Path(input_dir)\n",
    "    # Get DISP version 0.9 data\n",
    "    disp_df = product.get_disp_info(input_dir)\n",
    "\n",
    "    # Get static layers OPERA_CSLC\n",
    "    static_paths = get_static_layers(disp_df.path.iloc[0], \n",
    "                                input_dir /'mintpy/geometry',\n",
    "                                n_workers=5)\n",
    "\n",
    "    # Get inc and azimuth\n",
    "    inc_az_paths = los_unit2inc_azimuth(static_paths['los_east'], \n",
    "                                        static_paths['los_north'],\n",
    "                                        input_dir /'mintpy/geometry')\n",
    "\n",
    "    # Get DEM and water mask\n",
    "    dem_path = download_dem(disp_df.path.iloc[0],\n",
    "                            input_dir /'mintpy/geometry')\n",
    "    water_mask_path = download_water_mask(disp_df.path.iloc[0],\n",
    "                            input_dir /'mintpy/geometry')\n",
    "\n",
    "    # Convert to MintPy format .h5\n",
    "    reference_date = disp_df.date1.min()\n",
    "    write_mintpy_geometry(disp_df.path.iloc[0],\n",
    "                        reference_date, \n",
    "                        inc_az_paths['inc_angle'],\n",
    "                        inc_az_paths['az_angle'],\n",
    "                        dem_path, water_mask_path,\n",
    "                        input_dir /'mintpy/geometry')\n",
    "    "
   ]
  },
  {
   "cell_type": "code",
   "execution_count": 4,
   "metadata": {},
   "outputs": [
    {
     "name": "stderr",
     "output_type": "stream",
     "text": [
      "[INFO|product|L23] 2025-02-22T16:01:11-0800: Found OPERA DISP: 687 products\n",
      "[INFO|product|L42] 2025-02-22T16:01:12-0800:  Starting date: 2016-07-16 22:50:42\n",
      "[INFO|product|L43] 2025-02-22T16:01:12-0800:  Ending date: 2024-12-13 22:51:21\n",
      "[INFO|product|L47] 2025-02-22T16:01:12-0800:  Versions: ['v1.0' 'v0.8' 'v1.1']\n",
      "[INFO|product|L51] 2025-02-22T16:01:12-0800:  filtered with v1.1: 239 products\n",
      "[INFO|product|L54] 2025-02-22T16:01:12-0800:  Number of reference dates: 16\n",
      "[INFO|product|L91] 2025-02-22T16:01:12-0800:  Skip 0 duplicates\n",
      "[INFO|static_layers|L46] 2025-02-22T16:01:17-0800: Static layer files to download: 25\n",
      "[INFO|static_layers|L56] 2025-02-22T16:01:39-0800: Stitching burst static layers to /u/duvel-d2/govorcin/NJ/ASC/v1.1/8622/mintpy/geometry\n",
      "/u/trappist-r0/govorcin/src/tools/conda/envs/disp_xr/lib/python3.13/site-packages/osgeo/gdal.py:311: FutureWarning: Neither gdal.UseExceptions() nor gdal.DontUseExceptions() has been explicitly called. In GDAL 4.0, exceptions will be enabled by default.\n",
      "  warnings.warn(\n"
     ]
    },
    {
     "name": "stdout",
     "output_type": "stream",
     "text": [
      "0...10...20...30...40...50...60...70...80...90...100 - done.\n",
      "0...10...20...30...40...50...60...70...80...90...100 - done.\n"
     ]
    },
    {
     "name": "stderr",
     "output_type": "stream",
     "text": [
      "Warning 6: layover_shadow_mask.tif: NBITS is not supported for data type Int8\n"
     ]
    },
    {
     "name": "stdout",
     "output_type": "stream",
     "text": [
      "0...10...20...30...40...50...60...70...80...90...100 - done.\n"
     ]
    },
    {
     "name": "stderr",
     "output_type": "stream",
     "text": [
      "[INFO|static_layers|L70] 2025-02-22T16:03:02-0800: Reprojecting los_east.tif to DISP grid\n",
      "[INFO|static_layers|L70] 2025-02-22T16:03:04-0800: Reprojecting los_north.tif to DISP grid\n",
      "[INFO|static_layers|L81] 2025-02-22T16:03:06-0800: Writing los_up /u/duvel-d2/govorcin/NJ/ASC/v1.1/8622/mintpy/geometry\n",
      "[INFO|static_layers|L132] 2025-02-22T16:03:14-0800: Writing azimuth and incidence angles to /u/duvel-d2/govorcin/NJ/ASC/v1.1/8622/mintpy/geometry\n",
      "[INFO|static_layers|L171] 2025-02-22T16:03:16-0800: Downloading DEM for bounds: [-75.4455575   39.69061429 -72.05366929  41.89613244]\n",
      "Opening glo_30 Datasets: 100%|██████████| 10/10 [00:04<00:00,  2.31it/s]\n",
      "Reading tile metadata: 100%|██████████| 10/10 [00:00<00:00, 68759.08it/s]\n",
      "Reading tile imagery: 100%|██████████| 10/10 [00:08<00:00,  1.21it/s]\n",
      "[INFO|static_layers|L180] 2025-02-22T16:03:43-0800: Saving DEM: /u/duvel-d2/govorcin/NJ/ASC/v1.1/8622/mintpy/geometry/dem.tif\n",
      "[INFO|static_layers|L215] 2025-02-22T16:03:48-0800: Downloading water mask for bounds: [-75.4455575   39.69061429 -72.05366929  41.89613244]\n",
      "Reading tile metadata: 100%|██████████| 2/2 [00:00<00:00, 17549.39it/s]\n",
      "Reading tile imagery: 100%|██████████| 2/2 [00:21<00:00, 10.52s/it]\n",
      "[INFO|static_layers|L225] 2025-02-22T16:04:35-0800: Saving Water Mask: /u/duvel-d2/govorcin/NJ/ASC/v1.1/8622/mintpy/geometry/water_mask.tif\n",
      "[INFO|mintpy|L121] 2025-02-22T16:04:38-0800: Reading /u/duvel-d2/govorcin/NJ/ASC/v1.1/8622/mintpy/geometry/incidence.tif\n",
      "[INFO|mintpy|L121] 2025-02-22T16:04:38-0800: Reading /u/duvel-d2/govorcin/NJ/ASC/v1.1/8622/mintpy/geometry/azimuth.tif\n",
      "[INFO|mintpy|L121] 2025-02-22T16:04:38-0800: Reading /u/duvel-d2/govorcin/NJ/ASC/v1.1/8622/mintpy/geometry/dem.tif\n",
      "[INFO|mintpy|L121] 2025-02-22T16:04:39-0800: Reading /u/duvel-d2/govorcin/NJ/ASC/v1.1/8622/mintpy/geometry/water_mask.tif\n",
      "[INFO|mintpy|L132] 2025-02-22T16:04:40-0800: Writing geometry.h5 to /u/duvel-d2/govorcin/NJ/ASC/v1.1/8622/mintpy/geometry\n"
     ]
    },
    {
     "name": "stdout",
     "output_type": "stream",
     "text": [
      "create HDF5 file: /u/duvel-d2/govorcin/NJ/ASC/v1.1/8622/mintpy/geometry/geometry.h5 with w mode\n",
      "create dataset /incidenceAngle of float32    in size of (7959, 9587)         with compression=None\n",
      "create dataset /azimuthAngle   of float32    in size of (7959, 9587)         with compression=None\n",
      "create dataset /height         of float32    in size of (7959, 9587)         with compression=None\n",
      "create dataset /waterMask      of uint8      in size of (7959, 9587)         with compression=None\n",
      "finished writing to /u/duvel-d2/govorcin/NJ/ASC/v1.1/8622/mintpy/geometry/geometry.h5\n"
     ]
    }
   ],
   "source": [
    "work_dir = Path('/u/duvel-d2/govorcin/NJ/ASC/v1.1/8622')\n",
    "\n",
    "# Get DISP version 0.9 data\n",
    "disp_df = product.get_disp_info(work_dir)\n",
    "\n",
    "# Get static layers OPERA_CSLC\n",
    "static_paths = get_static_layers(disp_df.path.iloc[0], \n",
    "                            work_dir /'mintpy/geometry',\n",
    "                            n_workers=5)\n",
    "\n",
    "# Get inc and azimuth\n",
    "inc_az_paths = los_unit2inc_azimuth(static_paths['los_east'], \n",
    "                                    static_paths['los_north'],\n",
    "                                    work_dir /'mintpy/geometry')\n",
    "\n",
    "# Get DEM and water mask\n",
    "dem_path = download_dem(disp_df.path.iloc[0],\n",
    "                        work_dir /'mintpy/geometry')\n",
    "water_mask_path = download_water_mask(disp_df.path.iloc[0],\n",
    "                         work_dir /'mintpy/geometry')\n",
    "\n",
    "# Convert to MintPy format .h5\n",
    "reference_date = disp_df.date1.min()\n",
    "write_mintpy_geometry(disp_df.path.iloc[0],\n",
    "                      reference_date, \n",
    "                      inc_az_paths['inc_angle'],\n",
    "                      inc_az_paths['az_angle'],\n",
    "                      dem_path, water_mask_path,\n",
    "                      work_dir /'mintpy/geometry')"
   ]
  },
  {
   "cell_type": "code",
   "execution_count": 6,
   "metadata": {},
   "outputs": [
    {
     "name": "stderr",
     "output_type": "stream",
     "text": [
      "[INFO|product|L23] 2025-02-22T16:05:02-0800: Found OPERA DISP: 224 products\n",
      "[INFO|product|L42] 2025-02-22T16:05:02-0800:  Starting date: 2017-02-17 22:50:28\n",
      "[INFO|product|L43] 2025-02-22T16:05:02-0800:  Ending date: 2024-10-26 22:51:10\n",
      "[INFO|product|L54] 2025-02-22T16:05:02-0800:  Number of reference dates: 15\n",
      "[INFO|product|L91] 2025-02-22T16:05:02-0800:  Skip 0 duplicates\n",
      "[INFO|static_layers|L46] 2025-02-22T16:05:04-0800: Static layer files to download: 7\n",
      "[INFO|static_layers|L56] 2025-02-22T16:05:12-0800: Stitching burst static layers to /u/duvel-d2/govorcin/NJ/ASC/v1.1/8621/mintpy/geometry\n"
     ]
    },
    {
     "name": "stdout",
     "output_type": "stream",
     "text": [
      "0...10...20...30...40...50...60...70...80...90...100 - done.\n",
      "0...10...20...30...40...50...60...70...80...90...100 - done.\n"
     ]
    },
    {
     "name": "stderr",
     "output_type": "stream",
     "text": [
      "Warning 6: layover_shadow_mask.tif: NBITS is not supported for data type Int8\n"
     ]
    },
    {
     "name": "stdout",
     "output_type": "stream",
     "text": [
      "0...10...20...30...40...50...60...70...80...90...100 - done.\n"
     ]
    },
    {
     "name": "stderr",
     "output_type": "stream",
     "text": [
      "[INFO|static_layers|L70] 2025-02-22T16:05:38-0800: Reprojecting los_east.tif to DISP grid\n",
      "[INFO|static_layers|L70] 2025-02-22T16:05:39-0800: Reprojecting los_north.tif to DISP grid\n",
      "[INFO|static_layers|L81] 2025-02-22T16:05:40-0800: Writing los_up /u/duvel-d2/govorcin/NJ/ASC/v1.1/8621/mintpy/geometry\n",
      "[INFO|static_layers|L132] 2025-02-22T16:05:46-0800: Writing azimuth and incidence angles to /u/duvel-d2/govorcin/NJ/ASC/v1.1/8621/mintpy/geometry\n",
      "[INFO|static_layers|L171] 2025-02-22T16:05:48-0800: Downloading DEM for bounds: [-75.10562999  38.35756878 -71.7827866   40.57846722]\n",
      "Opening glo_30 Datasets: 100%|██████████| 8/8 [00:06<00:00,  1.18it/s]\n",
      "Reading tile metadata: 100%|██████████| 8/8 [00:00<00:00, 46345.90it/s]\n",
      "Reading tile imagery: 100%|██████████| 8/8 [00:17<00:00,  2.22s/it]\n",
      "[INFO|static_layers|L180] 2025-02-22T16:06:24-0800: Saving DEM: /u/duvel-d2/govorcin/NJ/ASC/v1.1/8621/mintpy/geometry/dem.tif\n",
      "[INFO|static_layers|L215] 2025-02-22T16:06:28-0800: Downloading water mask for bounds: [-75.10562999  38.35756878 -71.7827866   40.57846722]\n",
      "Reading tile metadata: 100%|██████████| 4/4 [00:00<00:00, 35772.32it/s]\n",
      "Reading tile imagery: 100%|██████████| 4/4 [00:01<00:00,  2.01it/s]\n",
      "[INFO|static_layers|L225] 2025-02-22T16:06:55-0800: Saving Water Mask: /u/duvel-d2/govorcin/NJ/ASC/v1.1/8621/mintpy/geometry/water_mask.tif\n",
      "[INFO|mintpy|L121] 2025-02-22T16:06:57-0800: Reading /u/duvel-d2/govorcin/NJ/ASC/v1.1/8621/mintpy/geometry/incidence.tif\n",
      "[INFO|mintpy|L121] 2025-02-22T16:06:57-0800: Reading /u/duvel-d2/govorcin/NJ/ASC/v1.1/8621/mintpy/geometry/azimuth.tif\n",
      "[INFO|mintpy|L121] 2025-02-22T16:06:57-0800: Reading /u/duvel-d2/govorcin/NJ/ASC/v1.1/8621/mintpy/geometry/dem.tif\n",
      "[INFO|mintpy|L121] 2025-02-22T16:06:58-0800: Reading /u/duvel-d2/govorcin/NJ/ASC/v1.1/8621/mintpy/geometry/water_mask.tif\n",
      "[INFO|mintpy|L132] 2025-02-22T16:06:59-0800: Writing geometry.h5 to /u/duvel-d2/govorcin/NJ/ASC/v1.1/8621/mintpy/geometry\n"
     ]
    },
    {
     "name": "stdout",
     "output_type": "stream",
     "text": [
      "create HDF5 file: /u/duvel-d2/govorcin/NJ/ASC/v1.1/8621/mintpy/geometry/geometry.h5 with w mode\n",
      "create dataset /incidenceAngle of float32    in size of (7986, 9602)         with compression=None\n",
      "create dataset /azimuthAngle   of float32    in size of (7986, 9602)         with compression=None\n",
      "create dataset /height         of float32    in size of (7986, 9602)         with compression=None\n",
      "create dataset /waterMask      of uint8      in size of (7986, 9602)         with compression=None\n",
      "finished writing to /u/duvel-d2/govorcin/NJ/ASC/v1.1/8621/mintpy/geometry/geometry.h5\n",
      "CPU times: user 25.4 s, sys: 12.9 s, total: 38.3 s\n",
      "Wall time: 1min 58s\n"
     ]
    }
   ],
   "source": [
    "%%time\n",
    "get_geometry('/u/duvel-d2/govorcin/NJ/ASC/v1.1/8621')"
   ]
  },
  {
   "cell_type": "code",
   "execution_count": 7,
   "metadata": {},
   "outputs": [
    {
     "name": "stderr",
     "output_type": "stream",
     "text": [
      "[INFO|product|L23] 2025-02-22T16:07:01-0800: Found OPERA DISP: 239 products\n",
      "[INFO|product|L42] 2025-02-22T16:07:01-0800:  Starting date: 2016-07-09 22:58:15\n",
      "[INFO|product|L43] 2025-02-22T16:07:01-0800:  Ending date: 2024-09-13 22:58:56\n",
      "[INFO|product|L54] 2025-02-22T16:07:01-0800:  Number of reference dates: 16\n",
      "[INFO|product|L91] 2025-02-22T16:07:01-0800:  Skip 0 duplicates\n",
      "[INFO|static_layers|L46] 2025-02-22T16:07:05-0800: Static layer files to download: 19\n",
      "[INFO|static_layers|L56] 2025-02-22T16:07:24-0800: Stitching burst static layers to /u/duvel-d2/govorcin/NJ/ASC/v1.1/28220/mintpy/geometry\n"
     ]
    },
    {
     "name": "stdout",
     "output_type": "stream",
     "text": [
      "0...10...20...30...40...50...60...70...80...90...100 - done.\n",
      "0...10...20...30...40...50...60...70...80...90...100 - done.\n"
     ]
    },
    {
     "name": "stderr",
     "output_type": "stream",
     "text": [
      "Warning 6: layover_shadow_mask.tif: NBITS is not supported for data type Int8\n"
     ]
    },
    {
     "name": "stdout",
     "output_type": "stream",
     "text": [
      "0...10...20...30...40...50...60...70...80...90...100 - done.\n"
     ]
    },
    {
     "name": "stderr",
     "output_type": "stream",
     "text": [
      "[INFO|static_layers|L70] 2025-02-22T16:08:27-0800: Reprojecting los_east.tif to DISP grid\n",
      "[INFO|static_layers|L70] 2025-02-22T16:08:29-0800: Reprojecting los_north.tif to DISP grid\n",
      "[INFO|static_layers|L81] 2025-02-22T16:08:30-0800: Writing los_up /u/duvel-d2/govorcin/NJ/ASC/v1.1/28220/mintpy/geometry\n",
      "[INFO|static_layers|L132] 2025-02-22T16:08:37-0800: Writing azimuth and incidence angles to /u/duvel-d2/govorcin/NJ/ASC/v1.1/28220/mintpy/geometry\n",
      "[INFO|static_layers|L171] 2025-02-22T16:08:39-0800: Downloading DEM for bounds: [-76.89794396  37.28614051 -73.59561729  39.41833551]\n",
      "Opening glo_30 Datasets: 100%|██████████| 8/8 [00:10<00:00,  1.27s/it]\n",
      "Reading tile metadata: 100%|██████████| 8/8 [00:00<00:00, 98112.37it/s]\n",
      "Reading tile imagery: 100%|██████████| 8/8 [00:07<00:00,  1.02it/s]\n",
      "[INFO|static_layers|L180] 2025-02-22T16:09:12-0800: Saving DEM: /u/duvel-d2/govorcin/NJ/ASC/v1.1/28220/mintpy/geometry/dem.tif\n",
      "[INFO|static_layers|L215] 2025-02-22T16:09:16-0800: Downloading water mask for bounds: [-76.89794396  37.28614051 -73.59561729  39.41833551]\n",
      "Reading tile metadata: 100%|██████████| 4/4 [00:00<00:00, 28926.23it/s]\n",
      "Reading tile imagery: 100%|██████████| 4/4 [00:10<00:00,  2.59s/it]\n",
      "[INFO|static_layers|L225] 2025-02-22T16:09:49-0800: Saving Water Mask: /u/duvel-d2/govorcin/NJ/ASC/v1.1/28220/mintpy/geometry/water_mask.tif\n",
      "[INFO|mintpy|L121] 2025-02-22T16:09:51-0800: Reading /u/duvel-d2/govorcin/NJ/ASC/v1.1/28220/mintpy/geometry/incidence.tif\n",
      "[INFO|mintpy|L121] 2025-02-22T16:09:51-0800: Reading /u/duvel-d2/govorcin/NJ/ASC/v1.1/28220/mintpy/geometry/azimuth.tif\n",
      "[INFO|mintpy|L121] 2025-02-22T16:09:51-0800: Reading /u/duvel-d2/govorcin/NJ/ASC/v1.1/28220/mintpy/geometry/dem.tif\n",
      "[INFO|mintpy|L121] 2025-02-22T16:09:52-0800: Reading /u/duvel-d2/govorcin/NJ/ASC/v1.1/28220/mintpy/geometry/water_mask.tif\n",
      "[INFO|mintpy|L132] 2025-02-22T16:09:53-0800: Writing geometry.h5 to /u/duvel-d2/govorcin/NJ/ASC/v1.1/28220/mintpy/geometry\n"
     ]
    },
    {
     "name": "stdout",
     "output_type": "stream",
     "text": [
      "create HDF5 file: /u/duvel-d2/govorcin/NJ/ASC/v1.1/28220/mintpy/geometry/geometry.h5 with w mode\n",
      "create dataset /incidenceAngle of float32    in size of (7846, 9529)         with compression=None\n",
      "create dataset /azimuthAngle   of float32    in size of (7846, 9529)         with compression=None\n",
      "create dataset /height         of float32    in size of (7846, 9529)         with compression=None\n",
      "create dataset /waterMask      of uint8      in size of (7846, 9529)         with compression=None\n",
      "finished writing to /u/duvel-d2/govorcin/NJ/ASC/v1.1/28220/mintpy/geometry/geometry.h5\n",
      "CPU times: user 30.5 s, sys: 14 s, total: 44.5 s\n",
      "Wall time: 2min 53s\n"
     ]
    }
   ],
   "source": [
    "%%time\n",
    "get_geometry('/u/duvel-d2/govorcin/NJ/ASC/v1.1/28220')"
   ]
  },
  {
   "cell_type": "code",
   "execution_count": 8,
   "metadata": {},
   "outputs": [
    {
     "name": "stderr",
     "output_type": "stream",
     "text": [
      "[INFO|product|L23] 2025-02-22T16:09:55-0800: Found OPERA DISP: 239 products\n",
      "[INFO|product|L42] 2025-02-22T16:09:55-0800:  Starting date: 2016-07-09 22:58:37\n",
      "[INFO|product|L43] 2025-02-22T16:09:55-0800:  Ending date: 2024-10-19 22:59:19\n",
      "[INFO|product|L54] 2025-02-22T16:09:55-0800:  Number of reference dates: 16\n",
      "[INFO|product|L91] 2025-02-22T16:09:55-0800:  Skip 0 duplicates\n",
      "[INFO|static_layers|L46] 2025-02-22T16:10:01-0800: Static layer files to download: 27\n",
      "[INFO|static_layers|L56] 2025-02-22T16:10:26-0800: Stitching burst static layers to /u/duvel-d2/govorcin/NJ/ASC/v1.1/28221/mintpy/geometry\n"
     ]
    },
    {
     "name": "stdout",
     "output_type": "stream",
     "text": [
      "0...10...20...30...40...50...60...70...80...90...100 - done.\n",
      "0...10...20...30...40...50...60...70...80...90...100 - done.\n"
     ]
    },
    {
     "name": "stderr",
     "output_type": "stream",
     "text": [
      "Warning 6: layover_shadow_mask.tif: NBITS is not supported for data type Int8\n"
     ]
    },
    {
     "name": "stdout",
     "output_type": "stream",
     "text": [
      "0...10...20...30...40...50...60...70...80...90...100 - done.\n"
     ]
    },
    {
     "name": "stderr",
     "output_type": "stream",
     "text": [
      "[INFO|static_layers|L70] 2025-02-22T16:11:52-0800: Reprojecting los_east.tif to DISP grid\n",
      "[INFO|static_layers|L70] 2025-02-22T16:11:54-0800: Reprojecting los_north.tif to DISP grid\n",
      "[INFO|static_layers|L81] 2025-02-22T16:11:55-0800: Writing los_up /u/duvel-d2/govorcin/NJ/ASC/v1.1/28221/mintpy/geometry\n",
      "[INFO|static_layers|L132] 2025-02-22T16:12:02-0800: Writing azimuth and incidence angles to /u/duvel-d2/govorcin/NJ/ASC/v1.1/28221/mintpy/geometry\n",
      "[INFO|static_layers|L171] 2025-02-22T16:12:03-0800: Downloading DEM for bounds: [-77.23151785  38.62061184 -73.86288378  40.73531152]\n",
      "Opening glo_30 Datasets: 100%|██████████| 13/13 [00:10<00:00,  1.25it/s]\n",
      "Reading tile metadata: 100%|██████████| 13/13 [00:00<00:00, 20599.15it/s]\n",
      "Reading tile imagery: 100%|██████████| 13/13 [00:20<00:00,  1.57s/it]\n",
      "[INFO|static_layers|L180] 2025-02-22T16:12:51-0800: Saving DEM: /u/duvel-d2/govorcin/NJ/ASC/v1.1/28221/mintpy/geometry/dem.tif\n",
      "[INFO|static_layers|L215] 2025-02-22T16:12:55-0800: Downloading water mask for bounds: [-77.23151785  38.62061184 -73.86288378  40.73531152]\n",
      "Reading tile metadata: 100%|██████████| 4/4 [00:00<00:00, 28777.39it/s]\n",
      "Reading tile imagery: 100%|██████████| 4/4 [00:10<00:00,  2.73s/it]\n",
      "[INFO|static_layers|L225] 2025-02-22T16:13:36-0800: Saving Water Mask: /u/duvel-d2/govorcin/NJ/ASC/v1.1/28221/mintpy/geometry/water_mask.tif\n",
      "[INFO|mintpy|L121] 2025-02-22T16:13:38-0800: Reading /u/duvel-d2/govorcin/NJ/ASC/v1.1/28221/mintpy/geometry/incidence.tif\n",
      "[INFO|mintpy|L121] 2025-02-22T16:13:38-0800: Reading /u/duvel-d2/govorcin/NJ/ASC/v1.1/28221/mintpy/geometry/azimuth.tif\n",
      "[INFO|mintpy|L121] 2025-02-22T16:13:38-0800: Reading /u/duvel-d2/govorcin/NJ/ASC/v1.1/28221/mintpy/geometry/dem.tif\n",
      "[INFO|mintpy|L121] 2025-02-22T16:13:38-0800: Reading /u/duvel-d2/govorcin/NJ/ASC/v1.1/28221/mintpy/geometry/water_mask.tif\n",
      "[INFO|mintpy|L132] 2025-02-22T16:13:39-0800: Writing geometry.h5 to /u/duvel-d2/govorcin/NJ/ASC/v1.1/28221/mintpy/geometry\n"
     ]
    },
    {
     "name": "stdout",
     "output_type": "stream",
     "text": [
      "create HDF5 file: /u/duvel-d2/govorcin/NJ/ASC/v1.1/28221/mintpy/geometry/geometry.h5 with w mode\n",
      "create dataset /incidenceAngle of float32    in size of (7816, 9514)         with compression=None\n",
      "create dataset /azimuthAngle   of float32    in size of (7816, 9514)         with compression=None\n",
      "create dataset /height         of float32    in size of (7816, 9514)         with compression=None\n",
      "create dataset /waterMask      of uint8      in size of (7816, 9514)         with compression=None\n",
      "finished writing to /u/duvel-d2/govorcin/NJ/ASC/v1.1/28221/mintpy/geometry/geometry.h5\n",
      "CPU times: user 43.8 s, sys: 13.8 s, total: 57.6 s\n",
      "Wall time: 3min 46s\n"
     ]
    }
   ],
   "source": [
    "%%time\n",
    "get_geometry('/u/duvel-d2/govorcin/NJ/ASC/v1.1/28221')"
   ]
  },
  {
   "cell_type": "code",
   "execution_count": 9,
   "metadata": {},
   "outputs": [
    {
     "name": "stderr",
     "output_type": "stream",
     "text": [
      "[INFO|product|L23] 2025-02-22T16:13:42-0800: Found OPERA DISP: 224 products\n",
      "[INFO|product|L42] 2025-02-22T16:13:42-0800:  Starting date: 2016-07-09 22:58:59\n",
      "[INFO|product|L43] 2025-02-22T16:13:42-0800:  Ending date: 2024-07-27 22:59:39\n",
      "[INFO|product|L54] 2025-02-22T16:13:42-0800:  Number of reference dates: 15\n",
      "[INFO|product|L91] 2025-02-22T16:13:42-0800:  Skip 0 duplicates\n",
      "[INFO|static_layers|L46] 2025-02-22T16:13:50-0800: Static layer files to download: 27\n",
      "[INFO|static_layers|L56] 2025-02-22T16:14:14-0800: Stitching burst static layers to /u/duvel-d2/govorcin/NJ/ASC/v1.1/28222/mintpy/geometry\n"
     ]
    },
    {
     "name": "stdout",
     "output_type": "stream",
     "text": [
      "0...10...20...30...40...50...60...70...80...90...100 - done.\n",
      "0...10...20...30...40...50...60...70...80...90...100 - done.\n"
     ]
    },
    {
     "name": "stderr",
     "output_type": "stream",
     "text": [
      "Warning 6: layover_shadow_mask.tif: NBITS is not supported for data type Int8\n"
     ]
    },
    {
     "name": "stdout",
     "output_type": "stream",
     "text": [
      "0...10...20...30...40...50...60...70...80...90...100 - done.\n"
     ]
    },
    {
     "name": "stderr",
     "output_type": "stream",
     "text": [
      "[INFO|static_layers|L70] 2025-02-22T16:15:41-0800: Reprojecting los_east.tif to DISP grid\n",
      "[INFO|static_layers|L70] 2025-02-22T16:15:42-0800: Reprojecting los_north.tif to DISP grid\n",
      "[INFO|static_layers|L81] 2025-02-22T16:15:43-0800: Writing los_up /u/duvel-d2/govorcin/NJ/ASC/v1.1/28222/mintpy/geometry\n",
      "[INFO|static_layers|L132] 2025-02-22T16:15:50-0800: Writing azimuth and incidence angles to /u/duvel-d2/govorcin/NJ/ASC/v1.1/28222/mintpy/geometry\n",
      "[INFO|static_layers|L171] 2025-02-22T16:15:52-0800: Downloading DEM for bounds: [-77.57280872  39.95507233 -74.13365374  42.05134534]\n",
      "Opening glo_30 Datasets: 100%|██████████| 16/16 [00:17<00:00,  1.10s/it]\n",
      "Reading tile metadata: 100%|██████████| 16/16 [00:00<00:00, 116105.30it/s]\n",
      "Reading tile imagery: 100%|██████████| 16/16 [00:10<00:00,  1.58it/s]\n",
      "[INFO|static_layers|L180] 2025-02-22T16:16:37-0800: Saving DEM: /u/duvel-d2/govorcin/NJ/ASC/v1.1/28222/mintpy/geometry/dem.tif\n",
      "[INFO|static_layers|L215] 2025-02-22T16:16:41-0800: Downloading water mask for bounds: [-77.57280872  39.95507233 -74.13365374  42.05134534]\n",
      "Reading tile metadata: 100%|██████████| 4/4 [00:00<00:00, 29905.91it/s]\n",
      "Reading tile imagery: 100%|██████████| 4/4 [00:07<00:00,  1.88s/it]\n",
      "[INFO|static_layers|L225] 2025-02-22T16:17:20-0800: Saving Water Mask: /u/duvel-d2/govorcin/NJ/ASC/v1.1/28222/mintpy/geometry/water_mask.tif\n",
      "[INFO|mintpy|L121] 2025-02-22T16:17:22-0800: Reading /u/duvel-d2/govorcin/NJ/ASC/v1.1/28222/mintpy/geometry/incidence.tif\n",
      "[INFO|mintpy|L121] 2025-02-22T16:17:23-0800: Reading /u/duvel-d2/govorcin/NJ/ASC/v1.1/28222/mintpy/geometry/azimuth.tif\n",
      "[INFO|mintpy|L121] 2025-02-22T16:17:23-0800: Reading /u/duvel-d2/govorcin/NJ/ASC/v1.1/28222/mintpy/geometry/dem.tif\n",
      "[INFO|mintpy|L121] 2025-02-22T16:17:23-0800: Reading /u/duvel-d2/govorcin/NJ/ASC/v1.1/28222/mintpy/geometry/water_mask.tif\n",
      "[INFO|mintpy|L132] 2025-02-22T16:17:24-0800: Writing geometry.h5 to /u/duvel-d2/govorcin/NJ/ASC/v1.1/28222/mintpy/geometry\n"
     ]
    },
    {
     "name": "stdout",
     "output_type": "stream",
     "text": [
      "create HDF5 file: /u/duvel-d2/govorcin/NJ/ASC/v1.1/28222/mintpy/geometry/geometry.h5 with w mode\n",
      "create dataset /incidenceAngle of float32    in size of (7785, 9497)         with compression=None\n",
      "create dataset /azimuthAngle   of float32    in size of (7785, 9497)         with compression=None\n",
      "create dataset /height         of float32    in size of (7785, 9497)         with compression=None\n",
      "create dataset /waterMask      of uint8      in size of (7785, 9497)         with compression=None\n",
      "finished writing to /u/duvel-d2/govorcin/NJ/ASC/v1.1/28222/mintpy/geometry/geometry.h5\n",
      "CPU times: user 44.8 s, sys: 14 s, total: 58.7 s\n",
      "Wall time: 3min 44s\n"
     ]
    }
   ],
   "source": [
    "%%time\n",
    "get_geometry('/u/duvel-d2/govorcin/NJ/ASC/v1.1/28222')"
   ]
  }
 ],
 "metadata": {
  "kernelspec": {
   "display_name": "disp_xr",
   "language": "python",
   "name": "python3"
  },
  "language_info": {
   "codemirror_mode": {
    "name": "ipython",
    "version": 3
   },
   "file_extension": ".py",
   "mimetype": "text/x-python",
   "name": "python",
   "nbconvert_exporter": "python",
   "pygments_lexer": "ipython3",
   "version": "3.13.2"
  }
 },
 "nbformat": 4,
 "nbformat_minor": 2
}
