{
 "cells": [
  {
   "cell_type": "code",
   "execution_count": 1,
   "metadata": {},
   "outputs": [],
   "source": [
    "%load_ext autoreload\n",
    "%autoreload 2\n",
    "import logging\n",
    "from pathlib import Path\n",
    "\n",
    "from disp_xr.log.logging import setup_logging\n",
    "logger = logging.getLogger('disp_xr')\n",
    "setup_logging(logger_name='disp_xr')\n",
    "\n",
    "from disp_xr.mintpy import create_timeseries_h5\n",
    "from disp_xr.utils import find_reference_point\n",
    "from disp_xr.io import open_image"
   ]
  },
  {
   "cell_type": "code",
   "execution_count": 9,
   "metadata": {},
   "outputs": [],
   "source": [
    "work_dir = Path('/u/duvel-d2/govorcin/NJ/ASC/v1.1/8622')\n",
    "\n",
    "pct_mask = open_image(work_dir / 'mintpy/quality_metrics/pct_recommended_mask.tif')[0]\n",
    "pct_ps = open_image(work_dir / 'mintpy/quality_metrics/pct_persistent_scatterer_mask.tif')[0]\n",
    "phase_jumps = open_image(work_dir / 'mintpy/quality_metrics/timeseries_inversion_residuals_sum.tif')[0]"
   ]
  },
  {
   "cell_type": "code",
   "execution_count": 10,
   "metadata": {},
   "outputs": [
    {
     "name": "stderr",
     "output_type": "stream",
     "text": [
      "[INFO|utils|L108] 2025-02-24T19:03:54-0800: Selected reference pixel (y/x): (np.int64(4562), np.int64(4456))\n"
     ]
    }
   ],
   "source": [
    "yx = find_reference_point(pct_mask, pct_ps, phase_jumps, percentile=99, max_jumps=1)"
   ]
  },
  {
   "cell_type": "code",
   "execution_count": 11,
   "metadata": {},
   "outputs": [],
   "source": [
    "(work_dir / 'mintpy/timeseries.h5').unlink()"
   ]
  },
  {
   "cell_type": "code",
   "execution_count": 12,
   "metadata": {},
   "outputs": [
    {
     "name": "stderr",
     "output_type": "stream",
     "text": [
      "[INFO|mintpy|L298] 2025-02-24T19:04:01-0800: Dask: http://127.0.0.1:8787/status\n",
      "[INFO|product|L23] 2025-02-24T19:04:13-0800: Found OPERA DISP: 687 products\n",
      "[INFO|product|L42] 2025-02-24T19:04:13-0800:  Starting date: 2016-07-16 22:50:42\n",
      "[INFO|product|L43] 2025-02-24T19:04:13-0800:  Ending date: 2024-12-13 22:51:21\n",
      "[INFO|product|L47] 2025-02-24T19:04:13-0800:  Versions: ['v1.0' 'v0.8' 'v1.1']\n",
      "[INFO|product|L51] 2025-02-24T19:04:13-0800:  filtered with v1.1: 239 products\n",
      "[INFO|product|L54] 2025-02-24T19:04:14-0800:  Number of reference dates: 16\n",
      "[INFO|product|L91] 2025-02-24T19:04:14-0800:  Skip 0 duplicates\n",
      "[INFO|stack|L25] 2025-02-24T19:04:14-0800: Stacking into common stack\n",
      "[INFO|stack|L27] 2025-02-24T19:04:14-0800:  Chunk blocks: {'time': -1, 'x': 512, 'y': 512}\n",
      "[INFO|logging|L75] 2025-02-24T19:05:14-0800: Total elapsed time for disp_xr.stack.combine_disp_product: 0.99 minutes (59.65 seconds)\n",
      "[INFO|mintpy|L315] 2025-02-24T19:05:21-0800: Reference date: 2016-09-26 22:50:46.228754\n",
      "[INFO|mintpy|L331] 2025-02-24T19:05:22-0800: Reference point: lat: 40.65, lon: -73.84\n",
      "[INFO|mintpy|L334] 2025-02-24T19:05:22-0800: Chunk size: 238.0 MB\n",
      "[INFO|mintpy|L335] 2025-02-24T19:05:22-0800: Size of parallel run: 2380.0 MB\n",
      "[INFO|mintpy|L240] 2025-02-24T19:05:22-0800: number of chunks: 304\n",
      "[INFO|mintpy|L268] 2025-02-24T19:05:22-0800: Re-referencing to x:4456, y:4562\n",
      "[INFO|mintpy|L208] 2025-02-24T19:05:27-0800: Writing data to HDF5 file in append mode...\n"
     ]
    },
    {
     "name": "stdout",
     "output_type": "stream",
     "text": [
      "--------------------------------------------------\n",
      "create HDF5 file: /u/duvel-d2/govorcin/NJ/ASC/v1.1/8622/mintpy/timeseries.h5 with w mode\n",
      "create dataset  : date             of |S8                       in size of (239,)               with compression = None\n",
      "create dataset  : bperp            of <class 'numpy.float32'>   in size of (239,)               with compression = None\n",
      "create dataset  : timeseries       of <class 'numpy.float32'>   in size of (239, 7959, 9587)    with compression = None\n",
      "create dataset  : connectComponent of <class 'numpy.int16'>     in size of (239, 7959, 9587)    with compression = lzf\n",
      "close  HDF5 file: /u/duvel-d2/govorcin/NJ/ASC/v1.1/8622/mintpy/timeseries.h5\n"
     ]
    },
    {
     "name": "stderr",
     "output_type": "stream",
     "text": [
      "100%|██████████| 304/304 [26:47<00:00,  5.29s/it]\n",
      "[INFO|mintpy|L221] 2025-02-24T19:32:19-0800: Data writing complete.\n",
      "[INFO|mintpy|L343] 2025-02-24T19:32:19-0800: Output file: /u/duvel-d2/govorcin/NJ/ASC/v1.1/8622/mintpy/timeseries.h5\n",
      "2025-02-24 19:32:23,713 - distributed.nanny - WARNING - Worker process still alive after 4.0 seconds, killing\n",
      "2025-02-24 19:32:23,760 - distributed.nanny - WARNING - Worker process still alive after 4.0 seconds, killing\n",
      "2025-02-24 19:32:23,761 - distributed.nanny - WARNING - Worker process still alive after 4.0 seconds, killing\n",
      "2025-02-24 19:32:23,763 - distributed.nanny - WARNING - Worker process still alive after 4.0 seconds, killing\n",
      "2025-02-24 19:32:23,763 - distributed.nanny - WARNING - Worker process still alive after 4.0 seconds, killing\n",
      "2025-02-24 19:32:23,764 - distributed.nanny - WARNING - Worker process still alive after 4.0 seconds, killing\n",
      "2025-02-24 19:32:23,765 - distributed.nanny - WARNING - Worker process still alive after 4.0 seconds, killing\n",
      "2025-02-24 19:32:23,767 - distributed.nanny - WARNING - Worker process still alive after 4.0 seconds, killing\n",
      "2025-02-24 19:32:23,767 - distributed.nanny - WARNING - Worker process still alive after 4.0 seconds, killing\n",
      "2025-02-24 19:32:23,768 - distributed.nanny - WARNING - Worker process still alive after 4.0 seconds, killing\n",
      "[INFO|mintpy|L345] 2025-02-24T19:32:24-0800: Dask client closed.\n"
     ]
    }
   ],
   "source": [
    "create_timeseries_h5(work_dir,\n",
    "                     work_dir / 'mintpy',\n",
    "                     start_date = '20160926',\n",
    "                     ref_yx = list(yx),\n",
    "                     num_threads = 10,\n",
    "                     mask=False)"
   ]
  },
  {
   "cell_type": "code",
   "execution_count": 6,
   "metadata": {},
   "outputs": [],
   "source": [
    "work_dir = Path('/u/duvel-d2/govorcin/NJ/ASC/v1.1/28222')\n",
    "\n",
    "pct_mask = open_image(work_dir / 'mintpy/quality_metrics/pct_recommended_mask.tif')[0]\n",
    "pct_ps = open_image(work_dir / 'mintpy/quality_metrics/pct_persistent_scatterer_mask.tif')[0]\n",
    "phase_jumps = open_image(work_dir / 'mintpy/quality_metrics/timeseries_inversion_residuals_sum.tif')[0]"
   ]
  },
  {
   "cell_type": "code",
   "execution_count": 7,
   "metadata": {},
   "outputs": [
    {
     "name": "stderr",
     "output_type": "stream",
     "text": [
      "[INFO|utils|L108] 2025-02-24T18:37:14-0800: Selected reference pixel (y/x): (np.int64(4011), np.int64(8995))\n"
     ]
    }
   ],
   "source": [
    "yx = find_reference_point(pct_mask, pct_ps, phase_jumps, percentile=99, max_jumps=1)"
   ]
  },
  {
   "cell_type": "code",
   "execution_count": 8,
   "metadata": {},
   "outputs": [
    {
     "name": "stderr",
     "output_type": "stream",
     "text": [
      "[INFO|mintpy|L298] 2025-02-24T18:37:17-0800: Dask: http://127.0.0.1:8787/status\n",
      "[INFO|product|L23] 2025-02-24T18:37:22-0800: Found OPERA DISP: 224 products\n",
      "[INFO|product|L42] 2025-02-24T18:37:22-0800:  Starting date: 2016-07-09 22:58:59\n",
      "[INFO|product|L43] 2025-02-24T18:37:22-0800:  Ending date: 2024-07-27 22:59:39\n",
      "[INFO|product|L54] 2025-02-24T18:37:22-0800:  Number of reference dates: 15\n",
      "[INFO|product|L91] 2025-02-24T18:37:22-0800:  Skip 0 duplicates\n",
      "[INFO|stack|L25] 2025-02-24T18:37:22-0800: Stacking into common stack\n",
      "[INFO|stack|L27] 2025-02-24T18:37:22-0800:  Chunk blocks: {'time': -1, 'x': 512, 'y': 512}\n",
      "[INFO|logging|L75] 2025-02-24T18:39:04-0800: Total elapsed time for disp_xr.stack.combine_disp_product: 1.69 minutes (101.20 seconds)\n",
      "[INFO|mintpy|L315] 2025-02-24T18:39:09-0800: Reference date: 2016-10-01 22:59:03.458204\n",
      "[INFO|mintpy|L331] 2025-02-24T18:39:11-0800: Reference point: lat: 40.99, lon: -74.31\n",
      "[INFO|mintpy|L334] 2025-02-24T18:39:11-0800: Chunk size: 223.0 MB\n",
      "[INFO|mintpy|L335] 2025-02-24T18:39:11-0800: Size of parallel run: 2230.0 MB\n",
      "[INFO|mintpy|L240] 2025-02-24T18:39:11-0800: number of chunks: 304\n",
      "[INFO|mintpy|L268] 2025-02-24T18:39:11-0800: Re-referencing to x:8995, y:4011\n"
     ]
    },
    {
     "name": "stdout",
     "output_type": "stream",
     "text": [
      "--------------------------------------------------\n"
     ]
    },
    {
     "name": "stderr",
     "output_type": "stream",
     "text": [
      "[INFO|mintpy|L208] 2025-02-24T18:39:39-0800: Writing data to HDF5 file in append mode...\n"
     ]
    },
    {
     "name": "stdout",
     "output_type": "stream",
     "text": [
      "create HDF5 file: /u/duvel-d2/govorcin/NJ/ASC/v1.1/28222/mintpy/timeseries.h5 with w mode\n",
      "create dataset  : date             of |S8                       in size of (224,)               with compression = None\n",
      "create dataset  : bperp            of <class 'numpy.float32'>   in size of (224,)               with compression = None\n",
      "create dataset  : timeseries       of <class 'numpy.float32'>   in size of (224, 7785, 9497)    with compression = None\n",
      "create dataset  : connectComponent of <class 'numpy.int16'>     in size of (224, 7785, 9497)    with compression = lzf\n",
      "close  HDF5 file: /u/duvel-d2/govorcin/NJ/ASC/v1.1/28222/mintpy/timeseries.h5\n"
     ]
    },
    {
     "name": "stderr",
     "output_type": "stream",
     "text": [
      "100%|██████████| 304/304 [23:57<00:00,  4.73s/it]\n",
      "[INFO|mintpy|L221] 2025-02-24T19:03:40-0800: Data writing complete.\n",
      "[INFO|mintpy|L343] 2025-02-24T19:03:40-0800: Output file: /u/duvel-d2/govorcin/NJ/ASC/v1.1/28222/mintpy/timeseries.h5\n",
      "[INFO|mintpy|L345] 2025-02-24T19:03:42-0800: Dask client closed.\n"
     ]
    }
   ],
   "source": [
    "create_timeseries_h5(work_dir,\n",
    "                     work_dir / 'mintpy',\n",
    "                     start_date = '20160926',\n",
    "                     ref_yx = list(yx),\n",
    "                     num_threads = 10,\n",
    "                     mask=False)"
   ]
  },
  {
   "cell_type": "code",
   "execution_count": null,
   "metadata": {},
   "outputs": [],
   "source": []
  }
 ],
 "metadata": {
  "kernelspec": {
   "display_name": "disp_xr",
   "language": "python",
   "name": "python3"
  },
  "language_info": {
   "codemirror_mode": {
    "name": "ipython",
    "version": 3
   },
   "file_extension": ".py",
   "mimetype": "text/x-python",
   "name": "python",
   "nbconvert_exporter": "python",
   "pygments_lexer": "ipython3",
   "version": "3.13.2"
  }
 },
 "nbformat": 4,
 "nbformat_minor": 2
}
